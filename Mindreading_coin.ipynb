{
 "cells": [
  {
   "cell_type": "markdown",
   "metadata": {},
   "source": [
    "## A Primer in Probability - Part 1\n",
    "\n",
    "This jupyter notebook is to help you assist with an introduction into probability!\n",
    "\n",
    "In this notebook, we discuss the probability of a coin toss. If we simply ask, what are the chances that the next coin toss is going to be heads, what would be your answer? The most likely answer is 50%. But what does this really mean? There are some interpretations to this -\n",
    "\n",
    "\n",
    "### Classical Interpretation\n",
    "What does 50% chance mean here?\n",
    "Total possible outcomes: 2 (heads or tails)\n",
    "Favorable outcome for heads: 1 (just heads)\n",
    "\n",
    "So, the chance of getting heads is 1 out of 2, which is 50%. This means if you toss the coin, you have an equal shot at getting heads or tails. It's like saying you have a 50% chance of picking one of two pieces of candy from a jar if there are only two pieces in there.\n",
    "\n",
    "\n",
    "### Frequentist Interpretation\n",
    "Now, let's say you decide to do a little experiment. You toss the coin 100 times. Sometimes it lands on heads, sometimes on tails. You keep count of each outcome.\n",
    "What happens after many tosses?\n",
    "If you toss the coin 100 times, you might get around 50 heads and 50 tails. It won't always be exactly 50 each time, but the more you toss it, the closer it will get to being 50/50.\n",
    "\n",
    "This interpretation says the 50% chance means that in a long run, about half of your tosses will be heads. It's like saying if you flip the coin over and over, you'll see heads come up about half the time.\n",
    "\n",
    "\n",
    "### Bayesian Interpretation\n",
    "Imagine you have a coin that you're not sure about. It might be a fair coin, but maybe it's a little biased. You start by assuming it's fair (50% heads, 50% tails).\n",
    "How do you update your guess?\n",
    "You toss the coin a few times and notice the outcomes. If you get more heads than tails, you might start to suspect the coin is biased towards heads.\n",
    "You keep updating your guess about the fairness of the coin based on what you observe.\n",
    "\n",
    "So, the initial 50% is just your starting point. As you gather more information (more tosses), you adjust your belief about the coin's fairness. It's like trying a new restaurant; you start with the assumption it's good, and after a few meals, you adjust your opinion based on your experiences.\n",
    "\n"
   ]
  },
  {
   "cell_type": "code",
   "execution_count": 2,
   "metadata": {},
   "outputs": [],
   "source": [
    "import numpy as np\n",
    "import matplotlib.pyplot as plt"
   ]
  },
  {
   "cell_type": "code",
   "execution_count": null,
   "metadata": {},
   "outputs": [],
   "source": []
  },
  {
   "cell_type": "code",
   "execution_count": 7,
   "metadata": {},
   "outputs": [
    {
     "name": "stdout",
     "output_type": "stream",
     "text": [
      "Classical Interpretation: Probability of heads is 0.5\n",
      "Frequentist Interpretation: (for 870 tosses) 0.4954022988505747\n",
      "Bayesian Interpretation: (for 768 tosses) 0.47139141742522755\n"
     ]
    }
   ],
   "source": [
    "def classical_interpretation():\n",
    "    outcomes = ['heads', 'tails']\n",
    "    probability_heads = 1 / len(outcomes)\n",
    "    return probability_heads\n",
    "\n",
    "def frequentist_interpretation(num_tosses):\n",
    "    heads_count = 0\n",
    "    coin_choices = ['heads', 'tails']\n",
    "    for _ in range(num_tosses):\n",
    "        if np.random.choice(coin_choices) == 'heads':\n",
    "            heads_count += 1\n",
    "    probability_heads = heads_count / num_tosses\n",
    "    return probability_heads\n",
    "\n",
    "def bayesian_interpretation(prior_heads, num_tosses):\n",
    "    heads_count = 0\n",
    "    coin_choices = ['heads', 'tails']\n",
    "    for _ in range(num_tosses):\n",
    "        if np.random.choice(coin_choices) == 'heads':\n",
    "            heads_count += 1\n",
    "    # Update belief\n",
    "    posterior_heads = (prior_heads + heads_count) / (num_tosses + 1)\n",
    "    return posterior_heads\n",
    "\n",
    "# Number of tosses for simulation\n",
    "num_tosses = 870\n",
    "prior_heads = 0.5\n",
    "bayesian_tosses = 768\n",
    "\n",
    "\n",
    "print(\"Classical Interpretation: Probability of heads is\", classical_interpretation())\n",
    "print(\"Frequentist Interpretation: (for\", num_tosses,\"tosses)\", frequentist_interpretation(num_tosses))\n",
    "print(\"Bayesian Interpretation: (for\",bayesian_tosses ,\"tosses)\", bayesian_interpretation(prior_heads, bayesian_tosses))"
   ]
  },
  {
   "cell_type": "code",
   "execution_count": null,
   "metadata": {},
   "outputs": [],
   "source": []
  }
 ],
 "metadata": {
  "kernelspec": {
   "display_name": "Python 3",
   "language": "python",
   "name": "python3"
  },
  "language_info": {
   "codemirror_mode": {
    "name": "ipython",
    "version": 3
   },
   "file_extension": ".py",
   "mimetype": "text/x-python",
   "name": "python",
   "nbconvert_exporter": "python",
   "pygments_lexer": "ipython3",
   "version": "3.6.9"
  }
 },
 "nbformat": 4,
 "nbformat_minor": 2
}
