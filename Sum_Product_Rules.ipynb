{
 "cells": [
  {
   "cell_type": "code",
   "execution_count": 1,
   "metadata": {},
   "outputs": [
    {
     "name": "stdout",
     "output_type": "stream",
     "text": [
      "Estimated probability of getting two heads in two tosses (from simulation): 0.2478\n",
      "Theoretical probability of getting two heads in two tosses: 0.2500\n",
      "\n",
      "Product Rule:\n",
      "P(Heads in first toss) = 1/2\n",
      "P(Heads in second toss) = 1/2\n",
      "P(both Heads) = P(Heads in first toss) * P(Heads in second toss) = 0.2500\n",
      "\n",
      "Sample outcome of two coin tosses: ['H' 'T']\n"
     ]
    }
   ],
   "source": [
    "import numpy as np\n",
    "\n",
    "def simulate_coin_tosses(n_tosses=2):\n",
    "    \"\"\"\n",
    "    Simulate n coin tosses and return the results.\n",
    "    \"\"\"\n",
    "    outcomes = np.random.choice(['H', 'T'], size=n_tosses)\n",
    "    return outcomes\n",
    "\n",
    "def calculate_probability(n_simulations=10000):\n",
    "    \"\"\"\n",
    "    Simulate multiple rounds of 2 coin tosses to estimate the probability\n",
    "    of getting two heads (HH).\n",
    "    \"\"\"\n",
    "    count_two_heads = 0\n",
    "\n",
    "    for _ in range(n_simulations):\n",
    "        tosses = simulate_coin_tosses()\n",
    "        if np.all(tosses == 'H'):\n",
    "            count_two_heads += 1\n",
    "\n",
    "    probability_two_heads = count_two_heads / n_simulations\n",
    "    return probability_two_heads\n",
    "\n",
    "# Simulate the coin tosses\n",
    "n_simulations = 10000\n",
    "estimated_probability = calculate_probability(n_simulations)\n",
    "theoretical_probability = (1/2) * (1/2)\n",
    "\n",
    "print(f\"Estimated probability of getting two heads in two tosses (from simulation): {estimated_probability:.4f}\")\n",
    "print(f\"Theoretical probability of getting two heads in two tosses: {theoretical_probability:.4f}\")\n",
    "\n",
    "# Explanation\n",
    "print(f\"\\nProduct Rule:\")\n",
    "print(f\"P(Heads in first toss) = 1/2\")\n",
    "print(f\"P(Heads in second toss) = 1/2\")\n",
    "print(f\"P(both Heads) = P(Heads in first toss) * P(Heads in second toss) = {theoretical_probability:.4f}\")\n",
    "\n",
    "# Run the simulation\n",
    "outcome = simulate_coin_tosses()\n",
    "print(f\"\\nSample outcome of two coin tosses: {outcome}\")\n"
   ]
  },
  {
   "cell_type": "code",
   "execution_count": 2,
   "metadata": {},
   "outputs": [
    {
     "name": "stdout",
     "output_type": "stream",
     "text": [
      "Estimated probability of getting a total of 7 or 11 on one roll (from simulation): 0.2206\n",
      "Theoretical probability of getting a total of 7 or 11 on one roll: 0.2222\n",
      "\n",
      "Estimated probability of getting a total of 7 on the first roll and a total of 11 on the second roll (from simulation): 0.0094\n",
      "Theoretical probability of getting a total of 7 on the first roll and a total of 11 on the second roll: 0.0093\n",
      "\n",
      "Sample outcome of two dice rolls: (2, 1), (1, 6)\n"
     ]
    }
   ],
   "source": [
    "import numpy as np\n",
    "\n",
    "def simulate_dice_rolls():\n",
    "    return np.random.choice(range(1, 7)), np.random.choice(range(1, 7))\n",
    "\n",
    "def calculate_probabilities(n_simulations=10000):\n",
    "    count_7_or_11 = 0\n",
    "    count_7_and_11 = 0\n",
    "\n",
    "    for _ in range(n_simulations):\n",
    "        roll1 = simulate_dice_rolls()\n",
    "        roll2 = simulate_dice_rolls()\n",
    "        \n",
    "        total1 = sum(roll1)\n",
    "        total2 = sum(roll2)\n",
    "        \n",
    "        if total1 == 7 or total1 == 11:\n",
    "            count_7_or_11 += 1\n",
    "        if total1 == 7 and total2 == 11:\n",
    "            count_7_and_11 += 1\n",
    "\n",
    "    probability_7_or_11 = count_7_or_11 / n_simulations\n",
    "    probability_7_and_11 = count_7_and_11 / n_simulations\n",
    "\n",
    "    return probability_7_or_11, probability_7_and_11\n",
    "\n",
    "# Simulate the dice rolls\n",
    "n_simulations = 10000\n",
    "estimated_probability_7_or_11, estimated_probability_7_and_11 = calculate_probabilities(n_simulations)\n",
    "\n",
    "theoretical_probability_7_or_11 = (6/36) + (2/36)\n",
    "theoretical_probability_7_and_11 = (1/6) * (1/18)\n",
    "\n",
    "print(f\"Estimated probability of getting a total of 7 or 11 on one roll (from simulation): {estimated_probability_7_or_11:.4f}\")\n",
    "print(f\"Theoretical probability of getting a total of 7 or 11 on one roll: {theoretical_probability_7_or_11:.4f}\")\n",
    "\n",
    "print(f\"\\nEstimated probability of getting a total of 7 on the first roll and a total of 11 on the second roll (from simulation): {estimated_probability_7_and_11:.4f}\")\n",
    "print(f\"Theoretical probability of getting a total of 7 on the first roll and a total of 11 on the second roll: {theoretical_probability_7_and_11:.4f}\")\n",
    "\n",
    "# Run the simulation\n",
    "roll1 = simulate_dice_rolls()\n",
    "roll2 = simulate_dice_rolls()\n",
    "print(f\"\\nSample outcome of two dice rolls: {roll1}, {roll2}\")\n"
   ]
  },
  {
   "cell_type": "code",
   "execution_count": null,
   "metadata": {},
   "outputs": [],
   "source": []
  }
 ],
 "metadata": {
  "kernelspec": {
   "display_name": "Python 3",
   "language": "python",
   "name": "python3"
  },
  "language_info": {
   "codemirror_mode": {
    "name": "ipython",
    "version": 3
   },
   "file_extension": ".py",
   "mimetype": "text/x-python",
   "name": "python",
   "nbconvert_exporter": "python",
   "pygments_lexer": "ipython3",
   "version": "3.6.9"
  }
 },
 "nbformat": 4,
 "nbformat_minor": 2
}
